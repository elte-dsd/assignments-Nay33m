{
  "nbformat": 4,
  "nbformat_minor": 0,
  "metadata": {
    "colab": {
      "name": "CMS_Count_Frequency.ipynb",
      "provenance": [],
      "collapsed_sections": []
    },
    "kernelspec": {
      "name": "python3",
      "display_name": "Python 3"
    }
  },
  "cells": [
    {
      "cell_type": "code",
      "metadata": {
        "id": "7IZSLR4zOpj1",
        "colab_type": "code",
        "colab": {}
      },
      "source": [
        "#num = input(\"Enter a number:\")\n",
        "#gets = input(\"Enter a character:\")\n",
        "\n",
        "#Because of some reason the above codes are not working. so the values are hardcoded.\n",
        "#Please provide hardcode value as input parameters.\n",
        "\n",
        "#Number of random value.\n",
        "num=100\n",
        "\n",
        "#Char to know it's frequency. Please provide only letters 'A', 'B', 'C', 'D'\n",
        "gets='D'"
      ],
      "execution_count": 0,
      "outputs": []
    },
    {
      "cell_type": "code",
      "metadata": {
        "colab_type": "code",
        "outputId": "71ec6a7f-6c08-4e93-f819-147c229f5cee",
        "id": "RSKFARtaG3wp",
        "colab": {
          "base_uri": "https://localhost:8080/",
          "height": 84
        }
      },
      "source": [
        "import random\n",
        "letters = ['A', 'B', 'C', 'D']\n",
        "seeds = random.choices(letters,num) \n",
        "#print(seeds)\n",
        "\n",
        "#matrix of hash function for Count Min Sketch:\n",
        "a=[1,6,3,1]\n",
        "b=[1,2,4,6]\n",
        "c=[3,4,1,6]\n",
        "d=[6,2,4,1]\n",
        "\n",
        "#initial Sketch table with zeros:\n",
        "h1=[0,0,0,0,0,0,0]\n",
        "h2=[0,0,0,0,0,0,0]\n",
        "h3=[0,0,0,0,0,0,0]\n",
        "h4=[0,0,0,0,0,0,0]\n",
        "\n",
        "#Updating Sketch table based on Hash function:\n",
        "for i in seeds:\n",
        "  if i == 'A':\n",
        "    h1[a[0]]=h1[a[0]]+1\n",
        "    h2[a[1]]=h2[a[1]]+1\n",
        "    h3[a[2]]=h3[a[2]]+1\n",
        "    h4[a[3]]=h4[a[3]]+1\n",
        "    \n",
        "  if i == 'B':\n",
        "    h1[b[0]]=h1[b[0]]+1\n",
        "    h2[b[1]]=h2[b[1]]+1\n",
        "    h3[b[2]]=h3[b[2]]+1\n",
        "    h4[b[3]]=h4[b[3]]+1\n",
        "  \n",
        "  if i == 'C':\n",
        "    h1[c[0]]=h1[c[0]]+1\n",
        "    h2[c[1]]=h2[c[1]]+1\n",
        "    h3[c[2]]=h3[c[2]]+1\n",
        "    h4[c[3]]=h4[c[3]]+1\n",
        "    \n",
        "  if i == 'D':\n",
        "    h1[d[0]]=h1[d[0]]+1\n",
        "    h2[d[1]]=h2[d[1]]+1\n",
        "    h3[d[2]]=h3[d[2]]+1\n",
        "    h4[d[3]]=h4[d[3]]+1\n",
        "\n",
        "#print(h1)\n",
        "#print(h2)\n",
        "#print(h3)\n",
        "#print(h4)\n",
        "\n",
        "\n"
      ],
      "execution_count": 98,
      "outputs": [
        {
          "output_type": "stream",
          "text": [
            "[0, 55, 0, 24, 0, 0, 21]\n",
            "[0, 0, 50, 0, 24, 0, 26]\n",
            "[0, 24, 0, 26, 50, 0, 0]\n",
            "[0, 47, 0, 0, 0, 0, 53]\n"
          ],
          "name": "stdout"
        }
      ]
    },
    {
      "cell_type": "code",
      "metadata": {
        "id": "BksoqrPfHmOj",
        "colab_type": "code",
        "colab": {
          "base_uri": "https://localhost:8080/",
          "height": 34
        },
        "outputId": "b85f2eaa-a154-4c91-b8b3-c732f9d24bcc"
      },
      "source": [
        "#find minimum from hash table\n",
        "if gets == 'A':\n",
        "  rh=[]\n",
        "  rh.append(h1[a[0]])\n",
        "  rh.append(h2[a[1]])\n",
        "  rh.append(h3[a[2]])\n",
        "  rh.append(h4[a[3]])\n",
        "  \n",
        "elif gets == 'B':\n",
        "  rh=[]\n",
        "  rh.append(h1[b[0]])\n",
        "  rh.append(h2[b[1]])\n",
        "  rh.append(h3[b[2]])\n",
        "  rh.append(h4[b[3]])\n",
        "  \n",
        "elif gets == 'C':\n",
        "  rh=[]\n",
        "  rh.append(h1[c[0]])\n",
        "  rh.append(h2[c[1]])\n",
        "  rh.append(h3[c[2]])\n",
        "  rh.append(h4[c[3]])\n",
        "  \n",
        "elif gets == 'D':\n",
        "  rh=[]\n",
        "  rh.append(h1[d[0]])\n",
        "  rh.append(h2[d[1]])\n",
        "  rh.append(h3[d[2]])\n",
        "  rh.append(h4[d[3]])\n",
        "  \n",
        "result=min(rh)  \n",
        "print(\"Number of times the element occured\",result)"
      ],
      "execution_count": 111,
      "outputs": [
        {
          "output_type": "stream",
          "text": [
            "Number of times the element occured 26\n"
          ],
          "name": "stdout"
        }
      ]
    },
    {
      "cell_type": "markdown",
      "metadata": {
        "id": "mLSGuHRZTRsZ",
        "colab_type": "text"
      },
      "source": [
        "Thank you for making me concept clear. I hope future class would also be interactive and understandable. I am learning python and numpy. I understood concept but i am not so good in python, I wrote this code with simpleness and tried on my own.\n",
        "\n",
        "Name: Nayeem Ahmed A S\n",
        "\n",
        "Neptun Code: MCVGRB\n"
      ]
    }
  ]
}