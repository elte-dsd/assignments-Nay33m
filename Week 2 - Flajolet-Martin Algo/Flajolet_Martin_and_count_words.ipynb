{
  "nbformat": 4,
  "nbformat_minor": 0,
  "metadata": {
    "kernelspec": {
      "display_name": "Python 3",
      "language": "python",
      "name": "python3"
    },
    "language_info": {
      "codemirror_mode": {
        "name": "ipython",
        "version": 3
      },
      "file_extension": ".py",
      "mimetype": "text/x-python",
      "name": "python",
      "nbconvert_exporter": "python",
      "pygments_lexer": "ipython3",
      "version": "3.5.2"
    },
    "colab": {
      "name": "Flajolet - Martin  and count words.ipynb",
      "provenance": [],
      "collapsed_sections": []
    }
  },
  "cells": [
    {
      "cell_type": "code",
      "metadata": {
        "id": "Ao6f2ENh4BYC",
        "colab_type": "code",
        "colab": {}
      },
      "source": [
        "#Please install all the libraries to use hash function libraries.\n",
        "#pip install bitarray\n",
        "#pip install cityhash\n",
        "#pip install spooky\n",
        "#pip install jhashcode\n",
        "#pip install mmh3\n"
      ],
      "execution_count": 0,
      "outputs": []
    },
    {
      "cell_type": "code",
      "metadata": {
        "id": "jfJ8DgGs3tkH",
        "colab_type": "code",
        "colab": {}
      },
      "source": [
        "from bitarray import bitarray\n",
        "from cityhash import CityHash32\n",
        "from spooky import hash32\n",
        "import statistics\n",
        "import jhashcode\n",
        "import mmh3\n",
        "import re\n",
        "import math"
      ],
      "execution_count": 0,
      "outputs": []
    },
    {
      "cell_type": "code",
      "metadata": {
        "id": "uJAwmjE43tkM",
        "colab_type": "code",
        "colab": {}
      },
      "source": [
        "# The function counts the number of quarters in the tail\n",
        "def return_tail_length(s):\n",
        "    s = str(s) # convert to string\n",
        "    rev = s[::-1]\n",
        "    \n",
        "    count = 0\n",
        "    for i in rev:\n",
        "        if i is '0':\n",
        "            count = count + 1\n",
        "        else:\n",
        "            break\n",
        "    return count\n",
        "  \n",
        "#Randomly given words in string.\n",
        "words=['Unthrifty', 'loveliness', 'why', 'dost', 'thou', 'spend', 'Upon', 'thy', 'self', 'thy', 'beauty', 'legacy', 'Nature', 'bequest', 'gives', 'nothing', 'but', 'doth', 'lend', 'And', 'being', 'frank', 'she', 'lends', 'to', 'those', 'are', 'free', 'Then', 'beauteous', 'niggard', 'why', 'dost', 'thou', 'abuse', 'The', 'bounteous', 'largess', 'given', 'thee', 'to', 'give', 'Profitless', 'usurer', 'why', 'dost', 'thou', 'use', 'So', 'great', 'a', 'sum', 'of', 'sums', 'yet', 'canst', 'not', 'live', 'For', 'having', 'traffic', 'with', 'thy', 'self', 'alone', 'Thou', 'of', 'thy', 'self', 'thy', 'sweet', 'self', 'dost', 'deceive', 'Then', 'how', 'when', 'nature', 'calls', 'thee', 'to', 'be', 'gone', 'What', 'acceptable', 'audit', 'canst', 'thou', 'leave', 'Thy', 'unused', 'beauty', 'must', 'be', 'tombed', 'with', 'thee', 'Which', 'used', 'lives', '', 'executor', 'orient', 'when', 'the', 'gracious', 'light', 'Lifts', 'up', 'his', 'burning', 'head,', 'each', 'under', 'eye', 'Doth', 'homage', 'to', 'his', 'new-appearing', 'sight', 'Serving', 'with', 'looks', 'his', 'sacred', 'majesty', 'And', 'having', 'climbed', 'the', 'steep-up', 'heavenly', 'hill', 'Resembling', 'strong', 'youth', 'in', 'his', 'middle', 'age', 'Yet', 'mortal', 'looks', 'adore', 'his', 'beauty', 'still', 'Attending', 'on', 'his', 'golden', 'pilgrimage', 'But', 'when', 'from', 'highmost', 'pitch', 'with', 'weary', 'car', 'Like', 'feeble', 'age', 'he', 'reeleth', 'from', 'the', 'day']"
      ],
      "execution_count": 0,
      "outputs": []
    },
    {
      "cell_type": "code",
      "metadata": {
        "id": "TBkXyE8XEFRo",
        "colab_type": "code",
        "colab": {
          "base_uri": "https://localhost:8080/",
          "height": 34
        },
        "outputId": "cc60027f-1d2c-41c0-83e6-fc01e6b15a9a"
      },
      "source": [
        "print(len(words))"
      ],
      "execution_count": 90,
      "outputs": [
        {
          "output_type": "stream",
          "text": [
            "169\n"
          ],
          "name": "stdout"
        }
      ]
    },
    {
      "cell_type": "code",
      "metadata": {
        "id": "_5gpOvdj3tkf",
        "colab_type": "code",
        "colab": {}
      },
      "source": [
        "#defining hash function tail length\n",
        "hash_function_1_tail_length = []\n",
        "hash_function_2_tail_length = []\n",
        "hash_function_3_tail_length = []\n",
        "hash_function_4_tail_length = []"
      ],
      "execution_count": 0,
      "outputs": []
    },
    {
      "cell_type": "code",
      "metadata": {
        "id": "vEo5HcT9_Pmh",
        "colab_type": "code",
        "colab": {}
      },
      "source": [
        "\"\"\"(I) Converting words to Hash value and resulted them in positive real number using abs function. (II) Converting Hash value to binary value. \"\"\"\n",
        "for word in words:\n",
        "    temp = re.match('[a-zA-Z]+', word)\n",
        "    if temp != None:\n",
        "        word = temp.group()\n",
        "\n",
        "        hash_value_1 = abs(CityHash32(word))\n",
        "        hash_value_2 = abs(hash32(word))\n",
        "        hash_value_3 = abs(jhashcode.hashcode(word))\n",
        "        hash_value_4 = abs(mmh3.hash(word))\n",
        "\n",
        "        # Binary representation\n",
        "        binary_1 = format(hash_value_1, '032b')\n",
        "        binary_2 = format(hash_value_2, '032b')\n",
        "        binary_3 = format(hash_value_3, '032b')\n",
        "        binary_4 = format(hash_value_4, '032b')\n",
        "\n",
        "        # calculator tail length\n",
        "        hash_function_1_tail_length.append(return_tail_length(binary_1))\n",
        "        hash_function_2_tail_length.append(return_tail_length(binary_2))\n",
        "        hash_function_3_tail_length.append(return_tail_length(binary_3))\n",
        "        hash_function_4_tail_length.append(return_tail_length(binary_4))\n",
        "        \n",
        "        \n"
      ],
      "execution_count": 0,
      "outputs": []
    },
    {
      "cell_type": "code",
      "metadata": {
        "id": "asNfYPqfB1EQ",
        "colab_type": "code",
        "colab": {}
      },
      "source": [
        "#Get the estimated average of 4 hash functions\n",
        "avg_hash = (2**(max(hash_function_1_tail_length)) + 2**(max(hash_function_2_tail_length)) + 2**(max(hash_function_3_tail_length)) + 2**(max(hash_function_4_tail_length))) / float(4)"
      ],
      "execution_count": 0,
      "outputs": []
    },
    {
      "cell_type": "code",
      "metadata": {
        "id": "NmhlUQh23tk1",
        "colab_type": "code",
        "colab": {
          "base_uri": "https://localhost:8080/",
          "height": 34
        },
        "outputId": "90fc7fd8-6594-4519-8fa4-e12b5603e374"
      },
      "source": [
        "print(\"The number of words distinguished by the Flajolet-Martin estimate is:\", avg_hash)"
      ],
      "execution_count": 94,
      "outputs": [
        {
          "output_type": "stream",
          "text": [
            "The number of words distinguished by the Flajolet-Martin estimate is: 512.0\n"
          ],
          "name": "stdout"
        }
      ]
    },
    {
      "cell_type": "markdown",
      "metadata": {
        "id": "PdLM0xLlFRfQ",
        "colab_type": "text"
      },
      "source": [
        "**Name**: Nayeem Ahmed A S \\\n",
        "**Neptun Code**: MCVGRB \\\n",
        "**Source**: Youtube and Medium.com \\\n",
        "**Input**: randomly taken some words from the internet and put it into the list.\\\n",
        "**Algorithm Used**: Flajolet-Martin Algorithm.\\\n",
        "Used different hash function Libraries.\\\n",
        "**Output**: Average Output has been resulted below.\n"
      ]
    }
  ]
}